{
 "cells": [
  {
   "cell_type": "code",
   "execution_count": 192,
   "id": "bfbc26d0-3b4a-42fe-b97d-e112453e1166",
   "metadata": {},
   "outputs": [],
   "source": [
    "import pandas as pd\n",
    "import geopandas as gpd\n",
    "import matplotlib.pyplot as plt\n",
    "import numpy as np\n",
    "pd.set_option('display.max_columns', None)"
   ]
  },
  {
   "cell_type": "markdown",
   "id": "0e8a8d28-6ec0-46a9-b927-b48b6791c803",
   "metadata": {},
   "source": [
    "<h2 style=\"color:#1f77b4; font-weight:bold;\">Veri Setlerinin İçe Aktarılması</h2>\r\n",
    "\r\n",
    "Bu çalışmada hanehalkı anket verileri ile mekansal analizler yapılabilmesi için çeşitli veri kaynakları içe aktarılmıştır. Bu veri setleri, hem sosyo-demografik bilgiler hem de coğrafi bölgeleme (TAZ) bilgilerini kapsamaktadır.\r\n",
    "\r\n",
    "---\r\n",
    "\r\n",
    "### 📥 **Anket Veri Setlerinin Yüklenmesi**\r\n",
    "\r\n",
    "Aşağıda üç temel Excel dosyası içe aktarılmıştır:\r\n",
    "\r\n",
    "- **Profil Verisi (`profile`)**: Hanehalkı bireylerine ait yaş, eğitim, çalışma durumu gibi demografik bilgiler içerir.  \r\n",
    "- **Hane Bilgisi Verisi (`house`)**: Her bir haneye ait konum bilgileri, gelir grubu ve temel yapı özellikleri yer alır.  \r\n",
    "- **Araç Sahipliği Verisi (`vehicle`)**: Hanelerin sahip olduğu araç türü, sayısı ve araç tipi gibi bilgileri içerir.\r\n",
    "\r\n",
    "---\r\n",
    "\r\n",
    "### 🌍 **TAZ (Traffic Analysis Zones) Verisinin Yüklenmesi**\r\n",
    "\r\n",
    "`TAZ` verisi, trafik analiz bölgelerini tanımlayan bir **shapefile** dosyasıdır ve analizlerin mekansal temelini oluşturur. Bu veri, tüm analizlerde bölgesel karşılaştırma ve toplulaştırma amacıyla kullanılacaktır.\r\n",
    " kullanılacaktır.\r\n"
   ]
  },
  {
   "cell_type": "code",
   "execution_count": 194,
   "id": "8336b620-837d-4ed9-8fa7-2c4568dd5a9c",
   "metadata": {},
   "outputs": [],
   "source": [
    "# Profil verisi\n",
    "profile = pd.read_excel('C:\\\\Users\\\\Paraboly\\\\Desktop\\\\TAZ_Analyis\\\\Data\\\\HTS\\\\Profile.xlsx')\n",
    "# Hane bilgisi verisi\n",
    "house = pd.read_excel('C:\\\\Users\\\\Paraboly\\\\Desktop\\\\TAZ_Analyis\\\\Data\\\\HTS\\\\Household.xlsx')\n",
    "# Araç sahipliği verisi\n",
    "vehicle = pd.read_excel('C:\\\\Users\\\\Paraboly\\\\Desktop\\\\TAZ_Analyis\\\\Data\\\\HTS\\\\Vehicle_ownership.xlsx')\n",
    "taz = gpd.read_file('C:\\\\Users\\\\Paraboly\\\\Desktop\\\\TAZ_Analyis\\\\Data\\\\SHP\\\\TAZs_zone.shp')"
   ]
  },
  {
   "cell_type": "code",
   "execution_count": 195,
   "id": "be461172-05f6-496d-bc4d-2305d67e00dc",
   "metadata": {},
   "outputs": [
    {
     "data": {
      "text/html": [
       "<div>\n",
       "<style scoped>\n",
       "    .dataframe tbody tr th:only-of-type {\n",
       "        vertical-align: middle;\n",
       "    }\n",
       "\n",
       "    .dataframe tbody tr th {\n",
       "        vertical-align: top;\n",
       "    }\n",
       "\n",
       "    .dataframe thead th {\n",
       "        text-align: right;\n",
       "    }\n",
       "</style>\n",
       "<table border=\"1\" class=\"dataframe\">\n",
       "  <thead>\n",
       "    <tr style=\"text-align: right;\">\n",
       "      <th></th>\n",
       "      <th>NO</th>\n",
       "      <th>CODE</th>\n",
       "      <th>geometry</th>\n",
       "    </tr>\n",
       "  </thead>\n",
       "  <tbody>\n",
       "    <tr>\n",
       "      <th>0</th>\n",
       "      <td>1</td>\n",
       "      <td>None</td>\n",
       "      <td>MULTIPOLYGON (((666259.641 4526986.655, 666259...</td>\n",
       "    </tr>\n",
       "  </tbody>\n",
       "</table>\n",
       "</div>"
      ],
      "text/plain": [
       "   NO  CODE                                           geometry\n",
       "0   1  None  MULTIPOLYGON (((666259.641 4526986.655, 666259..."
      ]
     },
     "execution_count": 195,
     "metadata": {},
     "output_type": "execute_result"
    }
   ],
   "source": [
    "taz.head(1)"
   ]
  },
  {
   "cell_type": "code",
   "execution_count": 196,
   "id": "f486a173-2025-4b75-ac8b-b55b9dec64b3",
   "metadata": {},
   "outputs": [
    {
     "data": {
      "text/html": [
       "<div>\n",
       "<style scoped>\n",
       "    .dataframe tbody tr th:only-of-type {\n",
       "        vertical-align: middle;\n",
       "    }\n",
       "\n",
       "    .dataframe tbody tr th {\n",
       "        vertical-align: top;\n",
       "    }\n",
       "\n",
       "    .dataframe thead th {\n",
       "        text-align: right;\n",
       "    }\n",
       "</style>\n",
       "<table border=\"1\" class=\"dataframe\">\n",
       "  <thead>\n",
       "    <tr style=\"text-align: right;\">\n",
       "      <th></th>\n",
       "      <th>p_id</th>\n",
       "      <th>hh_id</th>\n",
       "      <th>participation_status</th>\n",
       "      <th>person_order</th>\n",
       "      <th>name</th>\n",
       "      <th>age</th>\n",
       "      <th>gender</th>\n",
       "      <th>District</th>\n",
       "      <th>edu</th>\n",
       "      <th>edu_status</th>\n",
       "      <th>drive_lic</th>\n",
       "      <th>house_rep_prox</th>\n",
       "      <th>work_status</th>\n",
       "      <th>work_type</th>\n",
       "      <th>sector</th>\n",
       "      <th>job</th>\n",
       "      <th>work_time</th>\n",
       "      <th>office_info</th>\n",
       "      <th>work_days</th>\n",
       "      <th>pt_card</th>\n",
       "      <th>pt_card_type</th>\n",
       "      <th>disability</th>\n",
       "      <th>had_trip</th>\n",
       "      <th>no_trip_reason</th>\n",
       "    </tr>\n",
       "  </thead>\n",
       "  <tbody>\n",
       "    <tr>\n",
       "      <th>0</th>\n",
       "      <td>71</td>\n",
       "      <td>6kaqzPZwvLgUnuUalhTx</td>\n",
       "      <td>Evet</td>\n",
       "      <td>K1</td>\n",
       "      <td>Şükran Çiftçi</td>\n",
       "      <td>64.0</td>\n",
       "      <td>Kadın</td>\n",
       "      <td>BEYKOZ</td>\n",
       "      <td>İlköğretim mezunu</td>\n",
       "      <td>Öğrenci Değil</td>\n",
       "      <td>Yok</td>\n",
       "      <td>Kendisi</td>\n",
       "      <td>Çalışmıyor</td>\n",
       "      <td>NaN</td>\n",
       "      <td>NaN</td>\n",
       "      <td>NaN</td>\n",
       "      <td>NaN</td>\n",
       "      <td>NaN</td>\n",
       "      <td>0.0</td>\n",
       "      <td>Yok</td>\n",
       "      <td>NaN</td>\n",
       "      <td>Hayır</td>\n",
       "      <td>Hayır</td>\n",
       "      <td>Gerek Olmaması</td>\n",
       "    </tr>\n",
       "  </tbody>\n",
       "</table>\n",
       "</div>"
      ],
      "text/plain": [
       "   p_id                 hh_id participation_status person_order  \\\n",
       "0    71  6kaqzPZwvLgUnuUalhTx                 Evet           K1   \n",
       "\n",
       "             name   age gender District                edu     edu_status  \\\n",
       "0  Şükran Çiftçi   64.0  Kadın   BEYKOZ  İlköğretim mezunu  Öğrenci Değil   \n",
       "\n",
       "  drive_lic house_rep_prox work_status work_type sector  job work_time  \\\n",
       "0       Yok        Kendisi  Çalışmıyor       NaN    NaN  NaN       NaN   \n",
       "\n",
       "  office_info  work_days pt_card pt_card_type disability had_trip  \\\n",
       "0         NaN        0.0     Yok          NaN      Hayır    Hayır   \n",
       "\n",
       "   no_trip_reason  \n",
       "0  Gerek Olmaması  "
      ]
     },
     "execution_count": 196,
     "metadata": {},
     "output_type": "execute_result"
    }
   ],
   "source": [
    "profile.head(1)"
   ]
  },
  {
   "cell_type": "code",
   "execution_count": 197,
   "id": "6dd6efca-0557-482a-9f8f-1acede1e56c6",
   "metadata": {},
   "outputs": [
    {
     "data": {
      "text/html": [
       "<div>\n",
       "<style scoped>\n",
       "    .dataframe tbody tr th:only-of-type {\n",
       "        vertical-align: middle;\n",
       "    }\n",
       "\n",
       "    .dataframe tbody tr th {\n",
       "        vertical-align: top;\n",
       "    }\n",
       "\n",
       "    .dataframe thead th {\n",
       "        text-align: right;\n",
       "    }\n",
       "</style>\n",
       "<table border=\"1\" class=\"dataframe\">\n",
       "  <thead>\n",
       "    <tr style=\"text-align: right;\">\n",
       "      <th></th>\n",
       "      <th>Unnamed: 0</th>\n",
       "      <th>hh_id</th>\n",
       "      <th>survey_id</th>\n",
       "      <th>hh_type</th>\n",
       "      <th>district</th>\n",
       "      <th>neig</th>\n",
       "      <th>street</th>\n",
       "      <th>apartment_no</th>\n",
       "      <th>door_no</th>\n",
       "      <th>house_type</th>\n",
       "      <th>sample_type</th>\n",
       "      <th>tuik_id</th>\n",
       "      <th>latitude</th>\n",
       "      <th>longitude</th>\n",
       "      <th>hh_size</th>\n",
       "      <th>hh_has_vehicle</th>\n",
       "      <th>hh_vehicle_count</th>\n",
       "      <th>residence_status</th>\n",
       "      <th>residence_status_other</th>\n",
       "      <th>rental_value</th>\n",
       "      <th>hh_income</th>\n",
       "    </tr>\n",
       "  </thead>\n",
       "  <tbody>\n",
       "    <tr>\n",
       "      <th>0</th>\n",
       "      <td>0</td>\n",
       "      <td>hbg0qx2dfppdajxfSIit</td>\n",
       "      <td>hbg0qx2dfppdajxfSIit</td>\n",
       "      <td>Anne ve çocuklardan oluşan</td>\n",
       "      <td>ŞİLE</td>\n",
       "      <td>MEŞRUTİYET</td>\n",
       "      <td>KASIMAĞA SOKAK</td>\n",
       "      <td>4</td>\n",
       "      <td>2</td>\n",
       "      <td>Müstakil Konut</td>\n",
       "      <td>Asil</td>\n",
       "      <td>A4-8142-5</td>\n",
       "      <td>41.15871</td>\n",
       "      <td>29.562484</td>\n",
       "      <td>3</td>\n",
       "      <td>Evet</td>\n",
       "      <td>1</td>\n",
       "      <td>Ev sahibi</td>\n",
       "      <td>NaN</td>\n",
       "      <td>NaN</td>\n",
       "      <td>60.001 - 80.000 TL</td>\n",
       "    </tr>\n",
       "  </tbody>\n",
       "</table>\n",
       "</div>"
      ],
      "text/plain": [
       "   Unnamed: 0                 hh_id             survey_id  \\\n",
       "0           0  hbg0qx2dfppdajxfSIit  hbg0qx2dfppdajxfSIit   \n",
       "\n",
       "                      hh_type district        neig          street  \\\n",
       "0  Anne ve çocuklardan oluşan     ŞİLE  MEŞRUTİYET  KASIMAĞA SOKAK   \n",
       "\n",
       "  apartment_no door_no      house_type sample_type    tuik_id  latitude  \\\n",
       "0            4       2  Müstakil Konut        Asil  A4-8142-5  41.15871   \n",
       "\n",
       "   longitude  hh_size hh_has_vehicle  hh_vehicle_count residence_status  \\\n",
       "0  29.562484        3           Evet                 1        Ev sahibi   \n",
       "\n",
       "  residence_status_other rental_value           hh_income  \n",
       "0                    NaN          NaN  60.001 - 80.000 TL  "
      ]
     },
     "execution_count": 197,
     "metadata": {},
     "output_type": "execute_result"
    }
   ],
   "source": [
    "house.head(1)"
   ]
  },
  {
   "cell_type": "code",
   "execution_count": 198,
   "id": "861af41d-0425-4012-8160-cdbc24e6d45c",
   "metadata": {},
   "outputs": [
    {
     "data": {
      "text/html": [
       "<div>\n",
       "<style scoped>\n",
       "    .dataframe tbody tr th:only-of-type {\n",
       "        vertical-align: middle;\n",
       "    }\n",
       "\n",
       "    .dataframe tbody tr th {\n",
       "        vertical-align: top;\n",
       "    }\n",
       "\n",
       "    .dataframe thead th {\n",
       "        text-align: right;\n",
       "    }\n",
       "</style>\n",
       "<table border=\"1\" class=\"dataframe\">\n",
       "  <thead>\n",
       "    <tr style=\"text-align: right;\">\n",
       "      <th></th>\n",
       "      <th>hh_id</th>\n",
       "      <th>v_id</th>\n",
       "      <th>type</th>\n",
       "      <th>brand</th>\n",
       "      <th>model</th>\n",
       "      <th>year</th>\n",
       "      <th>fuel</th>\n",
       "      <th>bike_type</th>\n",
       "      <th>ownership_status</th>\n",
       "      <th>autopark</th>\n",
       "      <th>most_user</th>\n",
       "    </tr>\n",
       "  </thead>\n",
       "  <tbody>\n",
       "    <tr>\n",
       "      <th>0</th>\n",
       "      <td>sjmlC3dl4rNI9nIuWQ9Q</td>\n",
       "      <td>14610</td>\n",
       "      <td>Binek Otomobil</td>\n",
       "      <td>Opel</td>\n",
       "      <td>astra</td>\n",
       "      <td>2011.0</td>\n",
       "      <td>Benzin&amp;LPG</td>\n",
       "      <td>NaN</td>\n",
       "      <td>Hane</td>\n",
       "      <td>Yol Kenarı-ücretsiz</td>\n",
       "      <td>K2</td>\n",
       "    </tr>\n",
       "  </tbody>\n",
       "</table>\n",
       "</div>"
      ],
      "text/plain": [
       "                  hh_id   v_id            type brand  model    year  \\\n",
       "0  sjmlC3dl4rNI9nIuWQ9Q  14610  Binek Otomobil  Opel  astra  2011.0   \n",
       "\n",
       "         fuel bike_type ownership_status             autopark most_user  \n",
       "0  Benzin&LPG       NaN             Hane  Yol Kenarı-ücretsiz        K2  "
      ]
     },
     "execution_count": 198,
     "metadata": {},
     "output_type": "execute_result"
    }
   ],
   "source": [
    "vehicle.head(1)"
   ]
  },
  {
   "cell_type": "markdown",
   "id": "78504b53-777c-4651-bd11-514ad7ca82b4",
   "metadata": {},
   "source": [
    "<h2 style=\"color:#1f77b4; font-weight:bold;\">🔍 Veri İşleme ve Analiz Süreci</h2>\r\n",
    "\r\n",
    "Bu bölümde, içe aktarılan anket ve mekansal veriler üzerinde çeşitli ön işleme ve analiz adımları gerçekleştirilecektir. Amaç, hanehalkı verilerini TAZ poligonlarıyla mekansal olarak eşleştirerek **nüfus**, **öğrenci oranı**, **gelir dağılımı** gibi göstergeleri bölgesel düzeyde analiz etmektir.\r\n",
    "\r\n",
    "Aşağıdaki işlemler sırasıyla gerçekleştirilecektir:\r\n",
    "\r\n",
    "- Koordinat sisteminin standardize edilmesi (EPSG:4326)\r\n",
    "- Noktasal verilerin TAZ poligonları ile eşleştirilmesi (spatial join)\r\n",
    "- TAZ bazında nüfus ve öğrenci sayısının hesaplanması\r\n",
    "- Gelir gruplarının sınıflandırılması ve bölgesel dağılımının çıkarılması\r\n"
   ]
  },
  {
   "cell_type": "markdown",
   "id": "095fdea2-9716-4df1-b123-afab273b9673",
   "metadata": {},
   "source": [
    "<h3 style=\"font-weight:bold;\">Koordinat Referans Sisteminin (CRS) EPSG:4326 (WGS 84) Olarak Ayarlanması ve Kontrolü</h3>\r\n"
   ]
  },
  {
   "cell_type": "code",
   "execution_count": 199,
   "id": "3c181385-d700-4ad5-8393-69d39e3d29da",
   "metadata": {},
   "outputs": [
    {
     "data": {
      "text/plain": [
       "<Geographic 2D CRS: EPSG:4326>\n",
       "Name: WGS 84\n",
       "Axis Info [ellipsoidal]:\n",
       "- Lat[north]: Geodetic latitude (degree)\n",
       "- Lon[east]: Geodetic longitude (degree)\n",
       "Area of Use:\n",
       "- name: World.\n",
       "- bounds: (-180.0, -90.0, 180.0, 90.0)\n",
       "Datum: World Geodetic System 1984 ensemble\n",
       "- Ellipsoid: WGS 84\n",
       "- Prime Meridian: Greenwich"
      ]
     },
     "execution_count": 199,
     "metadata": {},
     "output_type": "execute_result"
    }
   ],
   "source": [
    "# CRS'yi EPSG:4326 (WGS 84) ve kontrolü\n",
    "taz = taz.to_crs(epsg=4326)\n",
    "taz.crs"
   ]
  },
  {
   "cell_type": "code",
   "execution_count": 200,
   "id": "49586d6e-b34e-4fa5-b533-bc4d88ee11c2",
   "metadata": {},
   "outputs": [
    {
     "data": {
      "text/html": [
       "<div>\n",
       "<style scoped>\n",
       "    .dataframe tbody tr th:only-of-type {\n",
       "        vertical-align: middle;\n",
       "    }\n",
       "\n",
       "    .dataframe tbody tr th {\n",
       "        vertical-align: top;\n",
       "    }\n",
       "\n",
       "    .dataframe thead th {\n",
       "        text-align: right;\n",
       "    }\n",
       "</style>\n",
       "<table border=\"1\" class=\"dataframe\">\n",
       "  <thead>\n",
       "    <tr style=\"text-align: right;\">\n",
       "      <th></th>\n",
       "      <th>NO</th>\n",
       "      <th>CODE</th>\n",
       "      <th>geometry</th>\n",
       "    </tr>\n",
       "  </thead>\n",
       "  <tbody>\n",
       "    <tr>\n",
       "      <th>0</th>\n",
       "      <td>1</td>\n",
       "      <td>None</td>\n",
       "      <td>MULTIPOLYGON (((28.97317 40.87709, 28.97317 40...</td>\n",
       "    </tr>\n",
       "  </tbody>\n",
       "</table>\n",
       "</div>"
      ],
      "text/plain": [
       "   NO  CODE                                           geometry\n",
       "0   1  None  MULTIPOLYGON (((28.97317 40.87709, 28.97317 40..."
      ]
     },
     "execution_count": 200,
     "metadata": {},
     "output_type": "execute_result"
    }
   ],
   "source": [
    "taz.head(1)"
   ]
  },
  {
   "cell_type": "markdown",
   "id": "0dafaee1-6e56-4cc6-82f6-48e240522b0c",
   "metadata": {},
   "source": [
    "<h3 style=\"font-weight:bold;\">TAZ Bazlı Nüfus Verisinin Hesaplanması <code>HTS_POP</code></h3>\r\n",
    "\r\n",
    "Bu adımda, her bir TAZ (Traffic Analysis Zone) poligonunun içinde kalan kişi sayısı hesaplanmıştır. `merged_profile` veri setinde yer alan bireylerin konum bilgileri (latitude-longitude) kullanılarak, bu noktaların hangi TAZ sınırları içerisinde yer aldığı belirlenmiştir.\r\n",
    "\r\n",
    "Ardından, her TAZ bölgesine düşen toplam kişi sayısı sayılarak, `taz` GeoDataFrame'ine <code>HTS_POP</code> adlı yeni bir kolon olarak eklenmiştir.\r\n",
    "\r\n",
    "**<code>HTS_POP</code>:**  \r\n",
    "Her TAZ poligonunun içinde kalan kişi sayısını ifade eder. Yani, ilgili TAZ içinde kaç kişi bulunduğunu gösterir.\r\n",
    "\r\n",
    "Bu veri, mekansal nüfus yoğunluğu analizleri ve bölgesel karşılaştırmalar için temel bir göstergedir.\r\n"
   ]
  },
  {
   "cell_type": "code",
   "execution_count": 201,
   "id": "258fd474-e84f-4912-93bd-8dea09a85256",
   "metadata": {},
   "outputs": [],
   "source": [
    "merged_profile= profile.merge(house, on='hh_id', how='left')"
   ]
  },
  {
   "cell_type": "code",
   "execution_count": 202,
   "id": "f56ded30-1a3e-4670-8352-7e79d11e25c0",
   "metadata": {},
   "outputs": [
    {
     "name": "stdout",
     "output_type": "stream",
     "text": [
      "merged_profile tablosundaki kişi sayısı: 169423\n"
     ]
    }
   ],
   "source": [
    "print(\"merged_profile tablosundaki kişi sayısı:\", merged_profile['hh_id'].count())"
   ]
  },
  {
   "cell_type": "code",
   "execution_count": 203,
   "id": "4563d2c6-7921-401f-b984-a0ca1a9702a6",
   "metadata": {},
   "outputs": [
    {
     "name": "stdout",
     "output_type": "stream",
     "text": [
      "Eksik koordinat sayısı: 0\n"
     ]
    }
   ],
   "source": [
    "missing_coords = merged_profile[merged_profile['latitude'].isna() | merged_profile['longitude'].isna()]\n",
    "print(\"Eksik koordinat sayısı:\", len(missing_coords))"
   ]
  },
  {
   "cell_type": "code",
   "execution_count": 204,
   "id": "17dae793-c089-49b9-afc0-04b26fb4f4d7",
   "metadata": {},
   "outputs": [
    {
     "name": "stdout",
     "output_type": "stream",
     "text": [
      "Hem latitude hem de longitude sıfır olan satır sayısı: 0\n"
     ]
    }
   ],
   "source": [
    "both_zero_coords = merged_profile[(merged_profile['latitude'] == 0) & (merged_profile['longitude'] == 0)]\n",
    "print(\"Hem latitude hem de longitude sıfır olan satır sayısı:\", len(both_zero_coords))"
   ]
  },
  {
   "cell_type": "code",
   "execution_count": 205,
   "id": "569c7540-4440-48e8-a787-39aa866c89fc",
   "metadata": {},
   "outputs": [
    {
     "data": {
      "text/html": [
       "<div>\n",
       "<style scoped>\n",
       "    .dataframe tbody tr th:only-of-type {\n",
       "        vertical-align: middle;\n",
       "    }\n",
       "\n",
       "    .dataframe tbody tr th {\n",
       "        vertical-align: top;\n",
       "    }\n",
       "\n",
       "    .dataframe thead th {\n",
       "        text-align: right;\n",
       "    }\n",
       "</style>\n",
       "<table border=\"1\" class=\"dataframe\">\n",
       "  <thead>\n",
       "    <tr style=\"text-align: right;\">\n",
       "      <th></th>\n",
       "      <th>p_id</th>\n",
       "      <th>hh_id</th>\n",
       "      <th>participation_status</th>\n",
       "      <th>person_order</th>\n",
       "      <th>name</th>\n",
       "      <th>age</th>\n",
       "      <th>gender</th>\n",
       "      <th>District</th>\n",
       "      <th>edu</th>\n",
       "      <th>edu_status</th>\n",
       "      <th>drive_lic</th>\n",
       "      <th>house_rep_prox</th>\n",
       "      <th>work_status</th>\n",
       "      <th>work_type</th>\n",
       "      <th>sector</th>\n",
       "      <th>job</th>\n",
       "      <th>work_time</th>\n",
       "      <th>office_info</th>\n",
       "      <th>work_days</th>\n",
       "      <th>pt_card</th>\n",
       "      <th>pt_card_type</th>\n",
       "      <th>disability</th>\n",
       "      <th>had_trip</th>\n",
       "      <th>no_trip_reason</th>\n",
       "      <th>Unnamed: 0</th>\n",
       "      <th>survey_id</th>\n",
       "      <th>hh_type</th>\n",
       "      <th>district</th>\n",
       "      <th>neig</th>\n",
       "      <th>street</th>\n",
       "      <th>apartment_no</th>\n",
       "      <th>door_no</th>\n",
       "      <th>house_type</th>\n",
       "      <th>sample_type</th>\n",
       "      <th>tuik_id</th>\n",
       "      <th>latitude</th>\n",
       "      <th>longitude</th>\n",
       "      <th>hh_size</th>\n",
       "      <th>hh_has_vehicle</th>\n",
       "      <th>hh_vehicle_count</th>\n",
       "      <th>residence_status</th>\n",
       "      <th>residence_status_other</th>\n",
       "      <th>rental_value</th>\n",
       "      <th>hh_income</th>\n",
       "      <th>geometry</th>\n",
       "    </tr>\n",
       "  </thead>\n",
       "  <tbody>\n",
       "    <tr>\n",
       "      <th>0</th>\n",
       "      <td>71</td>\n",
       "      <td>6kaqzPZwvLgUnuUalhTx</td>\n",
       "      <td>Evet</td>\n",
       "      <td>K1</td>\n",
       "      <td>Şükran Çiftçi</td>\n",
       "      <td>64.0</td>\n",
       "      <td>Kadın</td>\n",
       "      <td>BEYKOZ</td>\n",
       "      <td>İlköğretim mezunu</td>\n",
       "      <td>Öğrenci Değil</td>\n",
       "      <td>Yok</td>\n",
       "      <td>Kendisi</td>\n",
       "      <td>Çalışmıyor</td>\n",
       "      <td>NaN</td>\n",
       "      <td>NaN</td>\n",
       "      <td>NaN</td>\n",
       "      <td>NaN</td>\n",
       "      <td>NaN</td>\n",
       "      <td>0.0</td>\n",
       "      <td>Yok</td>\n",
       "      <td>NaN</td>\n",
       "      <td>Hayır</td>\n",
       "      <td>Hayır</td>\n",
       "      <td>Gerek Olmaması</td>\n",
       "      <td>59878</td>\n",
       "      <td>6kaqzPZwvLgUnuUalhTx</td>\n",
       "      <td>Anne, Baba ve çocuklardan oluşan</td>\n",
       "      <td>BEYKOZ</td>\n",
       "      <td>KAVACIK</td>\n",
       "      <td>ÖGE SOKAK</td>\n",
       "      <td>9</td>\n",
       "      <td>4</td>\n",
       "      <td>Apartman Dairesi</td>\n",
       "      <td>Asil</td>\n",
       "      <td>AS-2520-2</td>\n",
       "      <td>41.094734</td>\n",
       "      <td>29.082197</td>\n",
       "      <td>4</td>\n",
       "      <td>Hayır</td>\n",
       "      <td>0</td>\n",
       "      <td>Ev sahibi</td>\n",
       "      <td>NaN</td>\n",
       "      <td>NaN</td>\n",
       "      <td>15.001 - 25.000 TL</td>\n",
       "      <td>POINT (29.08220 41.09473)</td>\n",
       "    </tr>\n",
       "  </tbody>\n",
       "</table>\n",
       "</div>"
      ],
      "text/plain": [
       "   p_id                 hh_id participation_status person_order  \\\n",
       "0    71  6kaqzPZwvLgUnuUalhTx                 Evet           K1   \n",
       "\n",
       "             name   age gender District                edu     edu_status  \\\n",
       "0  Şükran Çiftçi   64.0  Kadın   BEYKOZ  İlköğretim mezunu  Öğrenci Değil   \n",
       "\n",
       "  drive_lic house_rep_prox work_status work_type sector  job work_time  \\\n",
       "0       Yok        Kendisi  Çalışmıyor       NaN    NaN  NaN       NaN   \n",
       "\n",
       "  office_info  work_days pt_card pt_card_type disability had_trip  \\\n",
       "0         NaN        0.0     Yok          NaN      Hayır    Hayır   \n",
       "\n",
       "   no_trip_reason  Unnamed: 0             survey_id  \\\n",
       "0  Gerek Olmaması       59878  6kaqzPZwvLgUnuUalhTx   \n",
       "\n",
       "                            hh_type district     neig     street apartment_no  \\\n",
       "0  Anne, Baba ve çocuklardan oluşan   BEYKOZ  KAVACIK  ÖGE SOKAK            9   \n",
       "\n",
       "  door_no         house_type sample_type    tuik_id   latitude  longitude  \\\n",
       "0       4  Apartman Dairesi         Asil  AS-2520-2  41.094734  29.082197   \n",
       "\n",
       "   hh_size hh_has_vehicle  hh_vehicle_count residence_status  \\\n",
       "0        4          Hayır                 0        Ev sahibi   \n",
       "\n",
       "  residence_status_other rental_value           hh_income  \\\n",
       "0                    NaN          NaN  15.001 - 25.000 TL   \n",
       "\n",
       "                    geometry  \n",
       "0  POINT (29.08220 41.09473)  "
      ]
     },
     "execution_count": 205,
     "metadata": {},
     "output_type": "execute_result"
    }
   ],
   "source": [
    "import geopandas as gpd\n",
    "from shapely.geometry import Point\n",
    "# Nokta geometrilerini oluştur\n",
    "merged_profile['geometry'] = merged_profile.apply(lambda row: Point(row['longitude'], row['latitude']), axis=1)\n",
    "\n",
    "# GeoDataFrame'e çevir (aynı CRS - WGS84)\n",
    "merged_profile = gpd.GeoDataFrame(merged_profile, geometry='geometry', crs='EPSG:4326')\n",
    "merged_profile.head(1)"
   ]
  },
  {
   "cell_type": "code",
   "execution_count": 206,
   "id": "5049c172-7191-4526-87fa-4371c73bad5a",
   "metadata": {},
   "outputs": [],
   "source": [
    "# 2. Spatial Join – Hangi nokta hangi TAZ içinde?\n",
    "points_in_taz = gpd.sjoin(merged_profile, taz, how='inner', predicate='within')\n",
    "\n",
    "# 3. Her TAZ poligonuna düşen nokta sayısını hesapla\n",
    "taz_counts = points_in_taz.groupby('index_right').size().reset_index(name='HTS_POP')\n",
    "\n",
    "# 4. HTS_POP kolonunu TAZ GeoDataFrame'e ekle\n",
    "taz['HTS_POP'] = taz_counts.set_index('index_right')['HTS_POP']\n",
    "\n",
    "# 5. Veri olmayanları 0 yap\n",
    "taz['HTS_POP'] = taz['HTS_POP'].fillna(0).astype(int)"
   ]
  },
  {
   "cell_type": "code",
   "execution_count": 207,
   "id": "3da51ade-439b-4777-b52d-bc44359b740d",
   "metadata": {},
   "outputs": [
    {
     "data": {
      "text/html": [
       "<div>\n",
       "<style scoped>\n",
       "    .dataframe tbody tr th:only-of-type {\n",
       "        vertical-align: middle;\n",
       "    }\n",
       "\n",
       "    .dataframe tbody tr th {\n",
       "        vertical-align: top;\n",
       "    }\n",
       "\n",
       "    .dataframe thead th {\n",
       "        text-align: right;\n",
       "    }\n",
       "</style>\n",
       "<table border=\"1\" class=\"dataframe\">\n",
       "  <thead>\n",
       "    <tr style=\"text-align: right;\">\n",
       "      <th></th>\n",
       "      <th>NO</th>\n",
       "      <th>CODE</th>\n",
       "      <th>geometry</th>\n",
       "      <th>HTS_POP</th>\n",
       "    </tr>\n",
       "  </thead>\n",
       "  <tbody>\n",
       "    <tr>\n",
       "      <th>0</th>\n",
       "      <td>1</td>\n",
       "      <td>None</td>\n",
       "      <td>MULTIPOLYGON (((28.97317 40.87709, 28.97317 40...</td>\n",
       "      <td>17</td>\n",
       "    </tr>\n",
       "  </tbody>\n",
       "</table>\n",
       "</div>"
      ],
      "text/plain": [
       "   NO  CODE                                           geometry  HTS_POP\n",
       "0   1  None  MULTIPOLYGON (((28.97317 40.87709, 28.97317 40...       17"
      ]
     },
     "execution_count": 207,
     "metadata": {},
     "output_type": "execute_result"
    }
   ],
   "source": [
    "taz.head(1)"
   ]
  },
  {
   "cell_type": "code",
   "execution_count": 208,
   "id": "3608a25b-75a7-47a3-a2f1-83b55994b3ba",
   "metadata": {},
   "outputs": [
    {
     "data": {
      "text/plain": [
       "169423"
      ]
     },
     "execution_count": 208,
     "metadata": {},
     "output_type": "execute_result"
    }
   ],
   "source": [
    "taz['HTS_POP'].sum()"
   ]
  },
  {
   "cell_type": "code",
   "execution_count": 238,
   "id": "ed8b5f40-0b41-4ecf-96c3-c08fdeb6abf1",
   "metadata": {},
   "outputs": [
    {
     "name": "stdout",
     "output_type": "stream",
     "text": [
      "✔️ Doğrulama başarılı: HTS_POP toplamı ile kişi sayısı eşit.\n"
     ]
    }
   ],
   "source": [
    "# ✅ Check: HTS_POP toplamı ile profile tablosundaki kişi sayısı sayısı eşit mi?\n",
    "check_result = taz['HTS_POP'].sum() - merged_profile['hh_id'].count()\n",
    "\n",
    "if check_result == 0:\n",
    "    print(\"✔️ Doğrulama başarılı: HTS_POP toplamı ile kişi sayısı eşit.\")\n",
    "else:\n",
    "    print(f\"❌ Doğrulama hatalı: Fark = {check_result}\")\n"
   ]
  },
  {
   "cell_type": "markdown",
   "id": "8ac73471-9212-415d-a727-a9a756ca264d",
   "metadata": {},
   "source": [
    "<h3 style=\"font-weight:bold;\">TAZ bazlı Öğrenci Sayılarının Eklenmesi <code>HTS_EDU</code></h3>\r\n",
    "\r\n",
    "Bu adımda, `merged_profile` veri setinde yer alan ve <code>edu_status</code> değeriri \"Öğrenci\" olan bireyler filtrelenmiştir. Her öğrencinin konum bilgisi (latitude-longitude) kullanılarak, hangi TAZ poligonuna denk geldiği belirlenmiştir.\r\n",
    "\r\n",
    "Spatial join (mekansal birleştirme) işlemi ile her öğrencinin ait olduğu TAZ bulunmuş ve her TAZ için düşen toplam öğrenci sayısı hesaplanarak `HTS_EDU` adlı yeni bir kolon olarak `taz` veri setine eklenmiştir.\r\n",
    "\r\n",
    "**<code>HTS_EDU</code>:**  \r\n",
    "Her TAZ poligonunun içinde kalan \"öğrenci\" bireylerin sayısını ifadabmemiştir.\r\n"
   ]
  },
  {
   "cell_type": "code",
   "execution_count": 209,
   "id": "2e5755ba-4e1d-4aaf-b796-a464bbca9227",
   "metadata": {},
   "outputs": [
    {
     "name": "stdout",
     "output_type": "stream",
     "text": [
      "Profile tablosundaki öğrenci sayısı: 29191\n"
     ]
    }
   ],
   "source": [
    "# 1. Öğrencileri filtrele\n",
    "students = merged_profile[merged_profile['edu_status'] == 'Öğrenci'].copy()\n",
    "#öğrenci sayısı \n",
    "\n",
    "print(\"Profile tablosundaki öğrenci sayısı:\", students['edu_status'].count())\n"
   ]
  },
  {
   "cell_type": "code",
   "execution_count": 210,
   "id": "6ccacb05-245d-4e91-9694-5eb9197b451e",
   "metadata": {},
   "outputs": [
    {
     "name": "stdout",
     "output_type": "stream",
     "text": [
      "Hem latitude hem de longitude sıfır olan satır sayısı: 0\n"
     ]
    }
   ],
   "source": [
    "#spatial join yapılamayacak veri sayısı\n",
    "both_zero_coords_2 = students[(students['latitude'] == 0) & (students['longitude'] == 0)]\n",
    "print(\"Hem latitude hem de longitude sıfır olan satır sayısı:\", len(both_zero_coords_2))\n"
   ]
  },
  {
   "cell_type": "code",
   "execution_count": 211,
   "id": "4910b916-5846-4557-b475-96fed2aec03c",
   "metadata": {},
   "outputs": [
    {
     "data": {
      "text/plain": [
       "29191"
      ]
     },
     "execution_count": 211,
     "metadata": {},
     "output_type": "execute_result"
    }
   ],
   "source": [
    "# Öğrencilerin TAZ poligonları içine düşenleri spatial join ile eşle\n",
    "joined_students = gpd.sjoin(students, taz, how='inner', predicate='within')\n",
    "\n",
    "#Her TAZ (index_right) için öğrenci sayısını say\n",
    "edu_counts = joined_students['index_right'].value_counts().rename_axis('index').reset_index(name='HTS_EDU')\n",
    "\n",
    "#TAZ veri setine HTS_EDU kolonunu ekle\n",
    "taz['HTS_EDU'] = 0  # Varsayılan değer\n",
    "taz.loc[edu_counts['index'], 'HTS_EDU'] = edu_counts['HTS_EDU'].values\n",
    "\n",
    "#Spatial join yapılan öğrenci sayısı\n",
    "taz['HTS_EDU'].sum()"
   ]
  },
  {
   "cell_type": "code",
   "execution_count": 239,
   "id": "2cc55863-58f2-4b25-a69c-4eb786c20b1a",
   "metadata": {},
   "outputs": [
    {
     "name": "stdout",
     "output_type": "stream",
     "text": [
      "✔️ Doğrulama başarılı: HTS_EDU toplamı ile öğrenci sayısı eşit.\n"
     ]
    }
   ],
   "source": [
    "# ✅ Check: HTS_EDU toplamı ile profile tablosundaki öğrenci sayısı sayısı eşit mi?\n",
    "check_result = taz['HTS_EDU'].sum() - students['edu_status'].count()\n",
    "\n",
    "if check_result == 0:\n",
    "    print(\"✔️ Doğrulama başarılı: HTS_EDU toplamı ile öğrenci sayısı eşit.\")\n",
    "else:\n",
    "    print(f\"❌ Doğrulama hatalı: Fark = {check_result}\")\n"
   ]
  },
  {
   "cell_type": "markdown",
   "id": "4d70eb9c-177c-49b5-aa83-99474190ca08",
   "metadata": {},
   "source": [
    "<h3 style=\"font-weight:bold;\">TAZ Bazlı Hane Gelirlerinin Eklenmesi <code>INC_*</code></h3>\r\n",
    "\r\n",
    "Bu adımda, `house` veri setindeki her hanenin gelir bilgisi (`income_class`) kullanılarak TAZ poligonları ile eşleştirme yapılmıştır. Spatial join (mekansal birleştirme) işlemiyle her hanenin bulunduğu TAZ belirlenmiş ve TAZ bazında her gelir sınıfına ait hane sayısı hesaplanmıştır.\r\n",
    "\r\n",
    "Her gelir sınıfı, ayrı bir kolon olarak `taz` GeoDataFrame’ine eklenmiştir.\r\n",
    "\r\n",
    "#### ➤ Oluşan Gelir Grupları ve Anlamları:\r\n",
    "\r\n",
    "- (<code>INC_0_5K</code>) → 0 - 5.000 TL arası gelir grubu  \r\n",
    "- (<code>INC_5K_10K</code>) → 5.001 - 10.000 TL arası gelir grubu  \r\n",
    "- (<code>INC_10K_15K</code>) → 10.001 - 15.000 TL arası gelir grubu  \r\n",
    "- (<code>INC_15K_25K</code>) → 15.001 - 25.000 TL arası gelir grubu  \r\n",
    "- (<code>INC_25K_40K</code>) → 25.001 - 40.000 TL arası gelir grubu  \r\n",
    "- (<code>INC_40K_60K</code>) → 40.001 - 60.000 TL arası gelir grubu  \r\n",
    "- (<code>INC_60K_80K</code>) → 60.001 - 80.000 TL arası gelir grubu  \r\n",
    "- (<code>INC_80K_100K</code>) → 80.001 - 100.000 TL arası gelir grubu  \r\n",
    "- (<code>INC_100K_140K</code>) → 100.001 - 140.000 TL arası gelir grubu  \r\n",
    "- (<code>INC_140K_200K</code>) → 140.001 - 200.000 TL arası gelir grubu  \r\n",
    "- (<code>INC_200KPLUS</code>) → 200.001 TL ve üzeri gelir grubu  \r\n",
    "- (<code>INC_Unknown</code>) → Gelir bilgisini belirtmeyen veya earla kullanılabilir.\r\n",
    "sik haneler"
   ]
  },
  {
   "cell_type": "code",
   "execution_count": 212,
   "id": "0d9d6e94-d823-4525-a93d-3b5928b00c55",
   "metadata": {},
   "outputs": [
    {
     "data": {
      "text/plain": [
       "array(['60.001 - 80.000 TL', '15.001 - 25.000 TL', '40.001 - 60.000 TL',\n",
       "       '25.001 - 40.000 TL', '80.001 - 100.000 TL',\n",
       "       '100.001 - 140.000 TL', '10.001 - 15.000 TL',\n",
       "       '200.001TL’den fazla', 'Belirtmek istemiyorum.',\n",
       "       '140.001 - 200.000 TL', '60.001 - 100.000 TL', '5.001 – 10.000 TL',\n",
       "       '5.000 TL’den az', '100.000TL’den fazla'], dtype=object)"
      ]
     },
     "execution_count": 212,
     "metadata": {},
     "output_type": "execute_result"
    }
   ],
   "source": [
    "house['hh_income'].unique()"
   ]
  },
  {
   "cell_type": "code",
   "execution_count": 213,
   "id": "0d401bcc-0f26-4aba-99fe-5977afc98798",
   "metadata": {},
   "outputs": [
    {
     "name": "stdout",
     "output_type": "stream",
     "text": [
      "household tablosundaki gelir bilgisi olan toplam hane sayısı: 59879\n"
     ]
    }
   ],
   "source": [
    "print(\"household tablosundaki gelir bilgisi olan toplam hane sayısı:\", house['hh_income'].count())\n"
   ]
  },
  {
   "cell_type": "code",
   "execution_count": 214,
   "id": "901c9242-fa92-46f0-869d-55585bdc1c1b",
   "metadata": {},
   "outputs": [
    {
     "name": "stdout",
     "output_type": "stream",
     "text": [
      "Hem latitude hem de longitude sıfır olan satır sayısı: 0\n"
     ]
    }
   ],
   "source": [
    "#spatial join yapılamayacak veri sayısı\n",
    "both_zero_coords_3 = house[(house['latitude'] == 0) & (house['longitude'] == 0)]\n",
    "print(\"Hem latitude hem de longitude sıfır olan satır sayısı:\", len(both_zero_coords_3))\n"
   ]
  },
  {
   "cell_type": "code",
   "execution_count": 215,
   "id": "4d9d113e-e408-4061-b16d-f04a02900222",
   "metadata": {},
   "outputs": [],
   "source": [
    "def classify_income(group):\n",
    "    if group == '5.000 TL’den az':\n",
    "        return '0-5K'\n",
    "    elif group == '5.001 – 10.000 TL':\n",
    "        return '5K–10K'\n",
    "    elif group == '10.001 - 15.000 TL':\n",
    "        return '10K–15K'\n",
    "    elif group == '15.001 - 25.000 TL':\n",
    "        return '15K–25K'\n",
    "    elif group == '25.001 - 40.000 TL':\n",
    "        return '25K–40K'\n",
    "    elif group == '40.001 - 60.000 TL':\n",
    "        return '40K–60K'\n",
    "    elif group == '60.001 - 80.000 TL':\n",
    "        return '60K–80K'\n",
    "    elif group == '60.001 - 100.000 TL' or group == '80.001 - 100.000 TL':\n",
    "        return '80K–100K'\n",
    "    elif group == '100.001 - 140.000 TL':\n",
    "        return '100K–140K'\n",
    "    elif group == '140.001 - 200.000 TL':\n",
    "        return '140K–200K'\n",
    "    elif group in ['200.001TL’den fazla', '100.000TL’den fazla']:\n",
    "        return '200K+'\n",
    "    elif group == 'Belirtmek istemiyorum.':\n",
    "        return 'Unknown'\n",
    "    else:\n",
    "        return 'Unknown'\n",
    "        \n",
    "# Yeni sütun oluştur\n",
    "house['income_class'] = house['hh_income'].apply(classify_income)\n"
   ]
  },
  {
   "cell_type": "code",
   "execution_count": 216,
   "id": "4d0b1f64-7f78-4365-8ca3-6b7ce27f96e2",
   "metadata": {},
   "outputs": [],
   "source": [
    "# 3. GeoDataFrame'e çevir\n",
    "house['geometry'] = house.apply(lambda r: Point(r['longitude'], r['latitude']), axis=1)\n",
    "house = gpd.GeoDataFrame(house, geometry='geometry', crs='EPSG:4326')\n",
    "\n",
    "# 4. TAZ ile spatial join\n",
    "joined = gpd.sjoin(house, taz, how='inner', predicate='within')\n",
    "\n",
    "# 5. TAZ bazında gelir sınıfına göre hane sayısı\n",
    "income_counts = joined.groupby(['index_right', 'income_class']).size().unstack(fill_value=0)\n",
    "\n",
    "# 6. Kolon adlarını düzenle\n",
    "income_counts.columns = ['INC_' + col.replace('-', '_').replace('–', '_').replace('+', 'PLUS').replace('K', 'K') for col in income_counts.columns]\n",
    "\n",
    "# 7. TAZ’a join et\n",
    "taz = taz.join(income_counts, how='left')\n",
    "taz.fillna(0, inplace=True)\n",
    "taz[income_counts.columns] = taz[income_counts.columns].astype(int)"
   ]
  },
  {
   "cell_type": "code",
   "execution_count": 217,
   "id": "bee3987e-23d5-46c0-8828-04caa1918ded",
   "metadata": {},
   "outputs": [
    {
     "data": {
      "text/html": [
       "<div>\n",
       "<style scoped>\n",
       "    .dataframe tbody tr th:only-of-type {\n",
       "        vertical-align: middle;\n",
       "    }\n",
       "\n",
       "    .dataframe tbody tr th {\n",
       "        vertical-align: top;\n",
       "    }\n",
       "\n",
       "    .dataframe thead th {\n",
       "        text-align: right;\n",
       "    }\n",
       "</style>\n",
       "<table border=\"1\" class=\"dataframe\">\n",
       "  <thead>\n",
       "    <tr style=\"text-align: right;\">\n",
       "      <th></th>\n",
       "      <th>NO</th>\n",
       "      <th>CODE</th>\n",
       "      <th>geometry</th>\n",
       "      <th>HTS_POP</th>\n",
       "      <th>HTS_EDU</th>\n",
       "      <th>INC_0_5K</th>\n",
       "      <th>INC_100K_140K</th>\n",
       "      <th>INC_10K_15K</th>\n",
       "      <th>INC_140K_200K</th>\n",
       "      <th>INC_15K_25K</th>\n",
       "      <th>INC_200KPLUS</th>\n",
       "      <th>INC_25K_40K</th>\n",
       "      <th>INC_40K_60K</th>\n",
       "      <th>INC_5K_10K</th>\n",
       "      <th>INC_60K_80K</th>\n",
       "      <th>INC_80K_100K</th>\n",
       "      <th>INC_Unknown</th>\n",
       "    </tr>\n",
       "  </thead>\n",
       "  <tbody>\n",
       "    <tr>\n",
       "      <th>0</th>\n",
       "      <td>1</td>\n",
       "      <td>0</td>\n",
       "      <td>MULTIPOLYGON (((28.97317 40.87709, 28.97317 40...</td>\n",
       "      <td>17</td>\n",
       "      <td>2</td>\n",
       "      <td>0</td>\n",
       "      <td>0</td>\n",
       "      <td>3</td>\n",
       "      <td>0</td>\n",
       "      <td>0</td>\n",
       "      <td>0</td>\n",
       "      <td>3</td>\n",
       "      <td>2</td>\n",
       "      <td>0</td>\n",
       "      <td>0</td>\n",
       "      <td>0</td>\n",
       "      <td>0</td>\n",
       "    </tr>\n",
       "  </tbody>\n",
       "</table>\n",
       "</div>"
      ],
      "text/plain": [
       "   NO  CODE                                           geometry  HTS_POP  \\\n",
       "0   1     0  MULTIPOLYGON (((28.97317 40.87709, 28.97317 40...       17   \n",
       "\n",
       "   HTS_EDU  INC_0_5K  INC_100K_140K  INC_10K_15K  INC_140K_200K  INC_15K_25K  \\\n",
       "0        2         0              0            3              0            0   \n",
       "\n",
       "   INC_200KPLUS  INC_25K_40K  INC_40K_60K  INC_5K_10K  INC_60K_80K  \\\n",
       "0             0            3            2           0            0   \n",
       "\n",
       "   INC_80K_100K  INC_Unknown  \n",
       "0             0            0  "
      ]
     },
     "execution_count": 217,
     "metadata": {},
     "output_type": "execute_result"
    }
   ],
   "source": [
    "taz.head(1)"
   ]
  },
  {
   "cell_type": "code",
   "execution_count": 218,
   "id": "c20504ae-46eb-4678-b9d4-e13d0ed85397",
   "metadata": {},
   "outputs": [
    {
     "name": "stdout",
     "output_type": "stream",
     "text": [
      "Gelir grubu kolonlarındaki toplam hane sayısı: 59879\n"
     ]
    }
   ],
   "source": [
    "income_cols = [\n",
    "    'INC_0_5K', 'INC_5K_10K', 'INC_10K_15K', 'INC_15K_25K', 'INC_25K_40K',\n",
    "    'INC_40K_60K', 'INC_60K_80K', 'INC_80K_100K', 'INC_100K_140K',\n",
    "    'INC_140K_200K', 'INC_200KPLUS', 'INC_Unknown'\n",
    "]\n",
    "\n",
    "# Toplamı hesapla\n",
    "total_households = taz[income_cols].sum().sum()\n",
    "\n",
    "print(\"Gelir grubu kolonlarındaki toplam hane sayısı:\", total_households)"
   ]
  },
  {
   "cell_type": "code",
   "execution_count": 240,
   "id": "acb42396-2301-4e5e-adc4-0ee4d91c3979",
   "metadata": {},
   "outputs": [
    {
     "name": "stdout",
     "output_type": "stream",
     "text": [
      "✔️ Doğrulama başarılı: INC* toplamı ile household income sayısı eşit.\n"
     ]
    }
   ],
   "source": [
    "# ✅ Check: İncome toplamı ile household tablosundaki income sayısı sayısı eşit mi?\n",
    "check_result = total_households - house['hh_income'].count()\n",
    "\n",
    "if check_result == 0:\n",
    "    print(\"✔️ Doğrulama başarılı: INC* toplamı ile household income sayısı eşit.\")\n",
    "else:\n",
    "    print(f\"❌ Doğrulama hatalı: Fark = {check_result}\")\n"
   ]
  },
  {
   "cell_type": "code",
   "execution_count": null,
   "id": "feb68004-dd68-44cb-b45f-8890f20c525e",
   "metadata": {},
   "outputs": [],
   "source": []
  },
  {
   "cell_type": "code",
   "execution_count": null,
   "id": "ca97caf5-163e-46b7-b54b-99ea47c372f0",
   "metadata": {},
   "outputs": [],
   "source": []
  }
 ],
 "metadata": {
  "kernelspec": {
   "display_name": "Python 3 (ipykernel)",
   "language": "python",
   "name": "python3"
  },
  "language_info": {
   "codemirror_mode": {
    "name": "ipython",
    "version": 3
   },
   "file_extension": ".py",
   "mimetype": "text/x-python",
   "name": "python",
   "nbconvert_exporter": "python",
   "pygments_lexer": "ipython3",
   "version": "3.11.5"
  }
 },
 "nbformat": 4,
 "nbformat_minor": 5
}
