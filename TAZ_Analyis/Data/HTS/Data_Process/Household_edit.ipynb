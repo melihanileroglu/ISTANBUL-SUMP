{
 "cells": [
  {
   "cell_type": "code",
   "execution_count": 61,
   "id": "2e0f33ff-ddc4-4439-a1ba-f42d8dcfd7e4",
   "metadata": {},
   "outputs": [],
   "source": [
    "import pandas as pd\n",
    "import geopandas as gpd\n",
    "import matplotlib.pyplot as plt\n",
    "import numpy as np\n",
    "pd.set_option('display.max_columns', None)"
   ]
  },
  {
   "cell_type": "code",
   "execution_count": 62,
   "id": "8f5b5d7c-e65f-40f8-8674-28016461a016",
   "metadata": {},
   "outputs": [],
   "source": [
    "house = pd.read_excel('C:\\\\Users\\\\Paraboly\\\\Desktop\\\\TAZ_Analyis\\\\Data\\\\HTS\\\\Household.xlsx')\n",
    "df = pd.read_excel('C:\\\\Users\\\\Paraboly\\\\Desktop\\\\TAZ_Analyis\\\\Data\\\\HTS\\\\Koordinat_atanmış_1.xlsx')"
   ]
  },
  {
   "cell_type": "code",
   "execution_count": 63,
   "id": "252630a3-5bac-41d9-a08f-2df4a6b0c7fd",
   "metadata": {},
   "outputs": [
    {
     "data": {
      "text/html": [
       "<div>\n",
       "<style scoped>\n",
       "    .dataframe tbody tr th:only-of-type {\n",
       "        vertical-align: middle;\n",
       "    }\n",
       "\n",
       "    .dataframe tbody tr th {\n",
       "        vertical-align: top;\n",
       "    }\n",
       "\n",
       "    .dataframe thead th {\n",
       "        text-align: right;\n",
       "    }\n",
       "</style>\n",
       "<table border=\"1\" class=\"dataframe\">\n",
       "  <thead>\n",
       "    <tr style=\"text-align: right;\">\n",
       "      <th></th>\n",
       "      <th>hh_id</th>\n",
       "      <th>survey_id</th>\n",
       "      <th>hh_type</th>\n",
       "      <th>district</th>\n",
       "      <th>neig</th>\n",
       "      <th>street</th>\n",
       "      <th>apartment_no</th>\n",
       "      <th>door_no</th>\n",
       "      <th>house_type</th>\n",
       "      <th>sample_type</th>\n",
       "      <th>tuik_id</th>\n",
       "      <th>latitude</th>\n",
       "      <th>longitude</th>\n",
       "      <th>hh_size</th>\n",
       "      <th>hh_has_vehicle</th>\n",
       "      <th>hh_vehicle_count</th>\n",
       "      <th>residence_status</th>\n",
       "      <th>residence_status_other</th>\n",
       "      <th>rental_value</th>\n",
       "      <th>hh_income</th>\n",
       "    </tr>\n",
       "  </thead>\n",
       "  <tbody>\n",
       "    <tr>\n",
       "      <th>0</th>\n",
       "      <td>hbg0qx2dfppdajxfSIit</td>\n",
       "      <td>hbg0qx2dfppdajxfSIit</td>\n",
       "      <td>Anne ve çocuklardan oluşan</td>\n",
       "      <td>ŞİLE</td>\n",
       "      <td>MEŞRUTİYET</td>\n",
       "      <td>KASIMAĞA SOKAK</td>\n",
       "      <td>4</td>\n",
       "      <td>2</td>\n",
       "      <td>Müstakil Konut</td>\n",
       "      <td>Asil</td>\n",
       "      <td>A4-8142-5</td>\n",
       "      <td>41.15871</td>\n",
       "      <td>29.562484</td>\n",
       "      <td>3</td>\n",
       "      <td>Evet</td>\n",
       "      <td>1</td>\n",
       "      <td>Ev sahibi</td>\n",
       "      <td>NaN</td>\n",
       "      <td>NaN</td>\n",
       "      <td>60.001 - 80.000 TL</td>\n",
       "    </tr>\n",
       "  </tbody>\n",
       "</table>\n",
       "</div>"
      ],
      "text/plain": [
       "                  hh_id             survey_id                     hh_type  \\\n",
       "0  hbg0qx2dfppdajxfSIit  hbg0qx2dfppdajxfSIit  Anne ve çocuklardan oluşan   \n",
       "\n",
       "  district        neig          street apartment_no door_no      house_type  \\\n",
       "0     ŞİLE  MEŞRUTİYET  KASIMAĞA SOKAK            4       2  Müstakil Konut   \n",
       "\n",
       "  sample_type    tuik_id  latitude  longitude  hh_size hh_has_vehicle  \\\n",
       "0        Asil  A4-8142-5  41.15871  29.562484        3           Evet   \n",
       "\n",
       "   hh_vehicle_count residence_status residence_status_other rental_value  \\\n",
       "0                 1        Ev sahibi                    NaN          NaN   \n",
       "\n",
       "            hh_income  \n",
       "0  60.001 - 80.000 TL  "
      ]
     },
     "execution_count": 63,
     "metadata": {},
     "output_type": "execute_result"
    }
   ],
   "source": [
    "house.head(1)"
   ]
  },
  {
   "cell_type": "code",
   "execution_count": 64,
   "id": "df28d90c-7935-4e56-a1d7-7b2a1de09f98",
   "metadata": {},
   "outputs": [
    {
     "name": "stdout",
     "output_type": "stream",
     "text": [
      "Hem latitude hem de longitude sıfır olan satır sayısı: 1373\n"
     ]
    }
   ],
   "source": [
    "both_zero_coords = house[(house['latitude'] == 0) & (house['longitude'] == 0)]\n",
    "print(\"Hem latitude hem de longitude sıfır olan satır sayısı:\", len(both_zero_coords))"
   ]
  },
  {
   "cell_type": "code",
   "execution_count": 65,
   "id": "aecff1e7-aba0-457d-8a6e-d3822ec0ed0e",
   "metadata": {},
   "outputs": [
    {
     "data": {
      "text/html": [
       "<div>\n",
       "<style scoped>\n",
       "    .dataframe tbody tr th:only-of-type {\n",
       "        vertical-align: middle;\n",
       "    }\n",
       "\n",
       "    .dataframe tbody tr th {\n",
       "        vertical-align: top;\n",
       "    }\n",
       "\n",
       "    .dataframe thead th {\n",
       "        text-align: right;\n",
       "    }\n",
       "</style>\n",
       "<table border=\"1\" class=\"dataframe\">\n",
       "  <thead>\n",
       "    <tr style=\"text-align: right;\">\n",
       "      <th></th>\n",
       "      <th>hh_id</th>\n",
       "      <th>sample_type</th>\n",
       "      <th>Enlem</th>\n",
       "      <th>Boylam</th>\n",
       "    </tr>\n",
       "  </thead>\n",
       "  <tbody>\n",
       "    <tr>\n",
       "      <th>0</th>\n",
       "      <td>kSGQKGT0xCYdrG1Wv9eZ</td>\n",
       "      <td>Asil</td>\n",
       "      <td>40.890376</td>\n",
       "      <td>29.191633</td>\n",
       "    </tr>\n",
       "  </tbody>\n",
       "</table>\n",
       "</div>"
      ],
      "text/plain": [
       "                  hh_id sample_type      Enlem     Boylam\n",
       "0  kSGQKGT0xCYdrG1Wv9eZ        Asil  40.890376  29.191633"
      ]
     },
     "execution_count": 65,
     "metadata": {},
     "output_type": "execute_result"
    }
   ],
   "source": [
    "df.head(1)"
   ]
  },
  {
   "cell_type": "code",
   "execution_count": 66,
   "id": "abe43a94-bb22-4692-bcd9-b51e218b26c8",
   "metadata": {},
   "outputs": [
    {
     "name": "stdout",
     "output_type": "stream",
     "text": [
      "Index(['hh_id', 'sample_type', 'Enlem', 'Boylam'], dtype='object')\n"
     ]
    }
   ],
   "source": [
    "print(df.columns)\n"
   ]
  },
  {
   "cell_type": "code",
   "execution_count": 67,
   "id": "ebf5ad58-2614-4be4-af86-e631b3652445",
   "metadata": {},
   "outputs": [],
   "source": [
    "import pandas as pd\n",
    "\n",
    "# Örnek olarak df'de şu sütunlar var: hh_id, sample_type, Enlem, Boylam\n",
    "# house'da: hh_id, latitude, longitude (ve diğerleri)\n",
    "\n",
    "# Önce df'deki kolonları yeniden adlandıralım\n",
    "df_renamed = df[['hh_id', 'Enlem', 'Boylam']].rename(columns={\n",
    "    'Enlem': 'new_latitude',\n",
    "    'Boylam': 'new_longitude'\n",
    "})\n",
    "\n",
    "# house ile df_renamed'i hh_id üzerinden birleştir\n",
    "house_updated = house.merge(df_renamed, on='hh_id', how='left')\n",
    "\n",
    "# latitude ve longitude'yi df'deki yeni değerlerle güncelle\n",
    "house_updated['latitude'] = house_updated['new_latitude'].combine_first(house_updated['latitude'])\n",
    "house_updated['longitude'] = house_updated['new_longitude'].combine_first(house_updated['longitude'])\n",
    "\n",
    "# Geçici kolonları silelim\n",
    "house_updated = house_updated.drop(columns=['new_latitude', 'new_longitude'])\n",
    "\n",
    "# Güncellenmiş DataFrame: house_updated\n"
   ]
  },
  {
   "cell_type": "code",
   "execution_count": 68,
   "id": "b7496ffd-091d-4a15-9b58-8cfbd9cff659",
   "metadata": {},
   "outputs": [
    {
     "data": {
      "text/html": [
       "<div>\n",
       "<style scoped>\n",
       "    .dataframe tbody tr th:only-of-type {\n",
       "        vertical-align: middle;\n",
       "    }\n",
       "\n",
       "    .dataframe tbody tr th {\n",
       "        vertical-align: top;\n",
       "    }\n",
       "\n",
       "    .dataframe thead th {\n",
       "        text-align: right;\n",
       "    }\n",
       "</style>\n",
       "<table border=\"1\" class=\"dataframe\">\n",
       "  <thead>\n",
       "    <tr style=\"text-align: right;\">\n",
       "      <th></th>\n",
       "      <th>hh_id</th>\n",
       "      <th>survey_id</th>\n",
       "      <th>hh_type</th>\n",
       "      <th>district</th>\n",
       "      <th>neig</th>\n",
       "      <th>street</th>\n",
       "      <th>apartment_no</th>\n",
       "      <th>door_no</th>\n",
       "      <th>house_type</th>\n",
       "      <th>sample_type</th>\n",
       "      <th>tuik_id</th>\n",
       "      <th>latitude</th>\n",
       "      <th>longitude</th>\n",
       "      <th>hh_size</th>\n",
       "      <th>hh_has_vehicle</th>\n",
       "      <th>hh_vehicle_count</th>\n",
       "      <th>residence_status</th>\n",
       "      <th>residence_status_other</th>\n",
       "      <th>rental_value</th>\n",
       "      <th>hh_income</th>\n",
       "    </tr>\n",
       "  </thead>\n",
       "  <tbody>\n",
       "    <tr>\n",
       "      <th>0</th>\n",
       "      <td>hbg0qx2dfppdajxfSIit</td>\n",
       "      <td>hbg0qx2dfppdajxfSIit</td>\n",
       "      <td>Anne ve çocuklardan oluşan</td>\n",
       "      <td>ŞİLE</td>\n",
       "      <td>MEŞRUTİYET</td>\n",
       "      <td>KASIMAĞA SOKAK</td>\n",
       "      <td>4</td>\n",
       "      <td>2</td>\n",
       "      <td>Müstakil Konut</td>\n",
       "      <td>Asil</td>\n",
       "      <td>A4-8142-5</td>\n",
       "      <td>41.15871</td>\n",
       "      <td>29.562484</td>\n",
       "      <td>3</td>\n",
       "      <td>Evet</td>\n",
       "      <td>1</td>\n",
       "      <td>Ev sahibi</td>\n",
       "      <td>NaN</td>\n",
       "      <td>NaN</td>\n",
       "      <td>60.001 - 80.000 TL</td>\n",
       "    </tr>\n",
       "  </tbody>\n",
       "</table>\n",
       "</div>"
      ],
      "text/plain": [
       "                  hh_id             survey_id                     hh_type  \\\n",
       "0  hbg0qx2dfppdajxfSIit  hbg0qx2dfppdajxfSIit  Anne ve çocuklardan oluşan   \n",
       "\n",
       "  district        neig          street apartment_no door_no      house_type  \\\n",
       "0     ŞİLE  MEŞRUTİYET  KASIMAĞA SOKAK            4       2  Müstakil Konut   \n",
       "\n",
       "  sample_type    tuik_id  latitude  longitude  hh_size hh_has_vehicle  \\\n",
       "0        Asil  A4-8142-5  41.15871  29.562484        3           Evet   \n",
       "\n",
       "   hh_vehicle_count residence_status residence_status_other rental_value  \\\n",
       "0                 1        Ev sahibi                    NaN          NaN   \n",
       "\n",
       "            hh_income  \n",
       "0  60.001 - 80.000 TL  "
      ]
     },
     "execution_count": 68,
     "metadata": {},
     "output_type": "execute_result"
    }
   ],
   "source": [
    "house_updated.head(1)"
   ]
  },
  {
   "cell_type": "code",
   "execution_count": 69,
   "id": "69f38503-e0e1-4490-8a19-8e9648aa5a15",
   "metadata": {},
   "outputs": [
    {
     "name": "stdout",
     "output_type": "stream",
     "text": [
      "Hem latitude hem de longitude sıfır olan satır sayısı: 538\n"
     ]
    }
   ],
   "source": [
    "both_zero_coords_2 = house_updated[(house_updated['latitude'] == 0) & (house_updated['longitude'] == 0)]\n",
    "print(\"Hem latitude hem de longitude sıfır olan satır sayısı:\", len(both_zero_coords_2))"
   ]
  },
  {
   "cell_type": "code",
   "execution_count": 70,
   "id": "8fc3db6f-2d5d-45ea-bff0-1a0665f0d5a8",
   "metadata": {},
   "outputs": [],
   "source": [
    "df_2 = pd.read_excel('C:\\\\Users\\\\Paraboly\\\\Desktop\\\\TAZ_Analyis\\\\Data\\\\HTS\\\\Koordinat_atanmış_2.xlsx')"
   ]
  },
  {
   "cell_type": "code",
   "execution_count": 72,
   "id": "51d7a2c3-e410-4cb8-8607-ac95447c45dd",
   "metadata": {},
   "outputs": [
    {
     "name": "stdout",
     "output_type": "stream",
     "text": [
      "Index(['hh_id', 'district', 'neig', 'street', 'apartment_no', 'door_no',\n",
      "       'full_address', 'enlem', 'boylam'],\n",
      "      dtype='object')\n"
     ]
    }
   ],
   "source": [
    "print(df_2.columns)"
   ]
  },
  {
   "cell_type": "code",
   "execution_count": 73,
   "id": "6f327e20-e04f-41c6-b7cd-695809f03935",
   "metadata": {},
   "outputs": [],
   "source": [
    "import pandas as pd\n",
    "\n",
    "# Örnek olarak df'de şu sütunlar var: hh_id, sample_type, Enlem, Boylam\n",
    "# house'da: hh_id, latitude, longitude (ve diğerleri)\n",
    "\n",
    "# Önce df'deki kolonları yeniden adlandıralım\n",
    "df_renamed = df_2[['hh_id', 'enlem', 'boylam']].rename(columns={\n",
    "    'enlem': 'new_latitude',\n",
    "    'boylam': 'new_longitude'\n",
    "})\n",
    "\n",
    "# house ile df_renamed'i hh_id üzerinden birleştir\n",
    "house_updated_2 = house_updated.merge(df_renamed, on='hh_id', how='left')\n",
    "\n",
    "# latitude ve longitude'yi df'deki yeni değerlerle güncelle\n",
    "house_updated_2['latitude'] = house_updated_2['new_latitude'].combine_first(house_updated_2['latitude'])\n",
    "house_updated_2['longitude'] = house_updated_2['new_longitude'].combine_first(house_updated_2['longitude'])\n",
    "\n",
    "# Geçici kolonları silelim\n",
    "house_updated_2 = house_updated_2.drop(columns=['new_latitude', 'new_longitude'])\n",
    "\n",
    "# Güncellenmiş DataFrame: house_updated\n"
   ]
  },
  {
   "cell_type": "code",
   "execution_count": 74,
   "id": "fe5685ad-a113-4e74-acc0-9cc01d8ff4ea",
   "metadata": {},
   "outputs": [
    {
     "name": "stdout",
     "output_type": "stream",
     "text": [
      "Hem latitude hem de longitude sıfır olan satır sayısı: 0\n"
     ]
    }
   ],
   "source": [
    "both_zero_coords_3 = house_updated_2[(house_updated_2['latitude'] == 0) & (house_updated_2['longitude'] == 0)]\n",
    "print(\"Hem latitude hem de longitude sıfır olan satır sayısı:\", len(both_zero_coords_3))"
   ]
  },
  {
   "cell_type": "code",
   "execution_count": 76,
   "id": "a7ea4034-fd80-41e9-b27c-ad29bfb023a1",
   "metadata": {},
   "outputs": [],
   "source": [
    "house_updated_2.to_excel(\"test.coordinate.xlsx\")"
   ]
  },
  {
   "cell_type": "code",
   "execution_count": null,
   "id": "1fd43321-8750-4487-8122-a1f777765a60",
   "metadata": {},
   "outputs": [],
   "source": []
  }
 ],
 "metadata": {
  "kernelspec": {
   "display_name": "Python 3 (ipykernel)",
   "language": "python",
   "name": "python3"
  },
  "language_info": {
   "codemirror_mode": {
    "name": "ipython",
    "version": 3
   },
   "file_extension": ".py",
   "mimetype": "text/x-python",
   "name": "python",
   "nbconvert_exporter": "python",
   "pygments_lexer": "ipython3",
   "version": "3.11.5"
  }
 },
 "nbformat": 4,
 "nbformat_minor": 5
}
